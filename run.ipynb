{
 "cells": [
  {
   "cell_type": "code",
   "execution_count": null,
   "metadata": {},
   "outputs": [],
   "source": [
    "from sklearn.ensemble import RandomForestClassifier\n",
    "import pandas as pd\n",
    "from sklearn.model_selection import train_test_split\n",
    "from sklearn.metrics import confusion_matrix\n",
    "from sklearn.model_selection import GridSearchCV\n",
    "import numpy as np\n",
    "import matplotlib.pyplot as plt\n",
    "\n",
    "dataset = pd.read_csv(\"phishcoop.csv\")\n",
    "dataset = dataset.drop('id', 1) #removing unwanted column\n",
    "\n",
    "x = dataset.iloc[ : , :-1].values\n",
    "y = dataset.iloc[:, -1:].values\n",
    "\n",
    "x_train, x_test, y_train, y_test = train_test_split(x,y,test_size = 0.25, random_state =0 )\n",
    "parameters = [{'n_estimators': [100, 700],\n",
    "    'max_features': ['sqrt', 'log2'],\n",
    "    'criterion' :['gini', 'entropy']}]\n",
    "\n",
    "grid_search = GridSearchCV(RandomForestClassifier(),  parameters,cv =5, n_jobs= -1)\n",
    "grid_search.fit(x_train, y_train)\n",
    "#printing best parameters\n",
    "print(\"Best Accurancy =\" +str( grid_search.best_score_))\n",
    "print(\"best parameters =\" + str(grid_search.best_params_))\n",
    "classifier = RandomForestClassifier(n_estimators = 100, criterion = \"gini\", max_features = 'log2',  random_state = 0)\n",
    "classifier.fit(x_train, y_train)\n",
    "\n",
    "#predicting the tests set result\n",
    "y_pred = classifier.predict(x_test)\n",
    "\n",
    "# In[7]:\n",
    "\n",
    "\n",
    "import Datasetgen as data\n",
    "\n",
    "\n",
    "# In[8]:\n",
    "\n",
    "\n",
    "\n",
    "def run(url):\n",
    "\n",
    "    try:\n",
    "        #checking and predicting\n",
    "        checkprediction = data.main(url)\n",
    "        #checkprediction=[[0, -1, -1, -1, 1, 1, -1, 1, 0, 0, -1, -1, 1, 1, 0, 0, -1, 0, -1, -1, -1, -1, 1, 0, 0, 1, 1, 1, -1, -1]]\n",
    "        prediction = classifier.predict(checkprediction)\n",
    "        if prediction==1:\n",
    "            return \"Warning The website is harmfull for you\"\n",
    "        else:\n",
    "            return \"COOL! You can excess the website\" +\"\\n\"+ url\n",
    "\n",
    "    except:\n",
    "        return \"The website you entered does not exist\""
   ]
  }
 ],
 "metadata": {
  "kernelspec": {
   "display_name": "Python 3",
   "language": "python",
   "name": "python3"
  },
  "language_info": {
   "codemirror_mode": {
    "name": "ipython",
    "version": 3
   },
   "file_extension": ".py",
   "mimetype": "text/x-python",
   "name": "python",
   "nbconvert_exporter": "python",
   "pygments_lexer": "ipython3",
   "version": "3.6.4"
  }
 },
 "nbformat": 4,
 "nbformat_minor": 2
}
